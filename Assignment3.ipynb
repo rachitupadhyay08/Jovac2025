{
 "cells": [
  {
   "cell_type": "code",
   "execution_count": 1,
   "id": "7cc8ce6f",
   "metadata": {},
   "outputs": [
    {
     "name": "stdout",
     "output_type": "stream",
     "text": [
      "A    25\n",
      "B    30\n",
      "C    35\n",
      "D    40\n",
      "E    45\n",
      "dtype: int64\n",
      "A    25\n",
      "B    30\n",
      "C    35\n",
      "dtype: int64\n",
      "Mean: 35.0\n",
      "Median: 35.0\n",
      "Std Dev: 7.905694150420948\n"
     ]
    }
   ],
   "source": [
    "#Working with series\n",
    "import pandas as pd\n",
    "\n",
    "data = [25, 30, 35, 40, 45]\n",
    "s = pd.Series(data, index=['A', 'B', 'C', 'D', 'E'])\n",
    "print(s)\n",
    "\n",
    "print(s.head(3))\n",
    "\n",
    "print(\"Mean:\", s.mean())\n",
    "print(\"Median:\", s.median())\n",
    "print(\"Std Dev:\", s.std())\n"
   ]
  },
  {
   "cell_type": "code",
   "execution_count": 2,
   "id": "cc94805e",
   "metadata": {},
   "outputs": [
    {
     "name": "stdout",
     "output_type": "stream",
     "text": [
      "    Name  Age  Gender  Marks\n",
      "0  Alice   20  Female     85\n",
      "1    Bob   22    Male     78\n",
      "Columns: Index(['Name', 'Age', 'Gender', 'Marks'], dtype='object')\n",
      "Data types:\n",
      " Name      object\n",
      "Age        int64\n",
      "Gender    object\n",
      "Marks      int64\n",
      "dtype: object\n",
      "Summary:\n",
      "              Age      Marks\n",
      "count   5.000000   5.000000\n",
      "mean   20.400000  83.400000\n",
      "std     1.140175   7.334848\n",
      "min    19.000000  74.000000\n",
      "25%    20.000000  78.000000\n",
      "50%    20.000000  85.000000\n",
      "75%    21.000000  88.000000\n",
      "max    22.000000  92.000000\n",
      "    Name  Age  Gender  Marks  Passed\n",
      "0  Alice   20  Female     85    True\n",
      "1    Bob   22    Male     78   False\n",
      "2  Carol   19  Female     92    True\n",
      "3  David   21    Male     74   False\n",
      "4    Eve   20  Female     88    True\n"
     ]
    }
   ],
   "source": [
    "# Creating and inspecting dfs\n",
    "df = pd.DataFrame({\n",
    "    \"Name\": [\"Alice\", \"Bob\", \"Carol\", \"David\", \"Eve\"],\n",
    "    \"Age\": [20, 22, 19, 21, 20],\n",
    "    \"Gender\": [\"Female\", \"Male\", \"Female\", \"Male\", \"Female\"],\n",
    "    \"Marks\": [85, 78, 92, 74, 88]\n",
    "})\n",
    "\n",
    "print(df.head(2))\n",
    "\n",
    "print(\"Columns:\", df.columns)\n",
    "print(\"Data types:\\n\", df.dtypes)\n",
    "print(\"Summary:\\n\", df.describe())\n",
    "\n",
    "df[\"Passed\"] = df[\"Marks\"] >= 80\n",
    "print(df)\n"
   ]
  },
  {
   "cell_type": "code",
   "execution_count": null,
   "id": "7495a7ed",
   "metadata": {},
   "outputs": [
    {
     "name": "stdout",
     "output_type": "stream",
     "text": [
      "    Name  Marks\n",
      "0  Alice     85\n",
      "1    Bob     78\n",
      "2  Carol     92\n",
      "3  David     74\n",
      "4    Eve     88\n",
      "    Name  Age  Gender  Marks  Passed\n",
      "0  Alice   20  Female     85    True\n",
      "2  Carol   19  Female     92    True\n",
      "4    Eve   20  Female     88    True\n",
      "    Name  Age  Gender  Marks  Passed\n",
      "2  Carol   19  Female     92    True\n"
     ]
    }
   ],
   "source": [
    "# Data selections and filtering \n",
    "print(df[[\"Name\", \"Marks\"]])\n",
    "print(df[df[\"Marks\"] > 80])\n",
    "\n",
    "print(df[df[\"Marks\"] == df[\"Marks\"].max()])\n"
   ]
  },
  {
   "cell_type": "code",
   "execution_count": null,
   "id": "37bf3c7a",
   "metadata": {},
   "outputs": [
    {
     "name": "stdout",
     "output_type": "stream",
     "text": [
      "Missing values:\n",
      "     Name    Age  Gender  Marks  Passed\n",
      "0  False  False   False  False   False\n",
      "1  False  False   False   True   False\n",
      "2  False  False   False  False   False\n",
      "3  False  False   False  False   False\n",
      "4  False   True   False  False   False\n",
      "    Name   Age  Gender  Marks  Passed\n",
      "0  Alice  20.0  Female  85.00    True\n",
      "1    Bob  22.0    Male  84.75   False\n",
      "2  Carol  19.0  Female  92.00    True\n",
      "3  David  21.0    Male  74.00   False\n"
     ]
    },
    {
     "name": "stderr",
     "output_type": "stream",
     "text": [
      "C:\\Users\\omdut\\AppData\\Local\\Temp\\ipykernel_15960\\1933919023.py:7: FutureWarning: A value is trying to be set on a copy of a DataFrame or Series through chained assignment using an inplace method.\n",
      "The behavior will change in pandas 3.0. This inplace method will never work because the intermediate object on which we are setting values always behaves as a copy.\n",
      "\n",
      "For example, when doing 'df[col].method(value, inplace=True)', try using 'df.method({col: value}, inplace=True)' or df[col] = df[col].method(value) instead, to perform the operation inplace on the original object.\n",
      "\n",
      "\n",
      "  df[\"Marks\"].fillna(df[\"Marks\"].mean(), inplace=True)\n"
     ]
    }
   ],
   "source": [
    "# Handling missing data\n",
    "df.loc[1, 'Marks'] = None\n",
    "df.loc[4, 'Age'] = None\n",
    "print(\"Missing values:\\n\", df.isnull())\n",
    "df[\"Marks\"].fillna(df[\"Marks\"].mean(), inplace=True)\n",
    "df.dropna(subset=[\"Age\"], inplace=True)\n",
    "\n",
    "print(df)\n"
   ]
  },
  {
   "cell_type": "code",
   "execution_count": 5,
   "id": "4162bf52",
   "metadata": {},
   "outputs": [
    {
     "name": "stdout",
     "output_type": "stream",
     "text": [
      "         Age   Marks\n",
      "Gender              \n",
      "Female  19.5  88.500\n",
      "Male    21.5  79.375\n",
      "Gender\n",
      "Female    2\n",
      "Male      2\n",
      "Name: count, dtype: int64\n"
     ]
    }
   ],
   "source": [
    "# Grouping and aggr\n",
    "print(df.groupby(\"Gender\")[[\"Age\", \"Marks\"]].mean())\n",
    "\n",
    "print(df[\"Gender\"].value_counts())\n"
   ]
  },
  {
   "cell_type": "code",
   "execution_count": null,
   "id": "fe689489",
   "metadata": {},
   "outputs": [
    {
     "name": "stdout",
     "output_type": "stream",
     "text": [
      "    Name   Age  Gender  Marks  Passed\n",
      "0  Alice  20.0  Female  85.00    True\n",
      "1    Bob  22.0    Male  84.75   False\n",
      "2  Carol  19.0  Female  92.00    True\n",
      "3  David  21.0    Male  74.00   False\n"
     ]
    }
   ],
   "source": [
    "# Reading and writing data \n",
    "df.to_csv(\"students_data.csv\", index=False)\n",
    "\n",
    "df_new = pd.read_csv(\"students_data.csv\")\n",
    "\n",
    "print(df_new.head())\n"
   ]
  },
  {
   "cell_type": "code",
   "execution_count": null,
   "id": "cc58db1f",
   "metadata": {},
   "outputs": [
    {
     "name": "stdout",
     "output_type": "stream",
     "text": [
      "             Age      Marks\n",
      "count   4.000000   4.000000\n",
      "mean   20.500000  83.937500\n",
      "std     1.290994   7.428478\n",
      "min    19.000000  74.000000\n",
      "25%    19.750000  82.062500\n",
      "50%    20.500000  84.875000\n",
      "75%    21.250000  86.750000\n",
      "max    22.000000  92.000000\n",
      "Name      0\n",
      "Age       0\n",
      "Gender    0\n",
      "Marks     0\n",
      "Passed    0\n",
      "dtype: int64\n"
     ]
    },
    {
     "data": {
      "image/png": "[encoded data removed]",
      "text/plain": [
       "<Figure size 640x480 with 1 Axes>"
      ]
     },
     "metadata": {},
     "output_type": "display_data"
    }
   ],
   "source": [
    "# General EDA with any DataSet\n",
    "import matplotlib.pyplot as plt\n",
    "import seaborn as sns\n",
    "\n",
    "# Load sample dataset (replace with your downloaded CSV)\n",
    "df = pd.read_csv(\"students_data.csv\")\n",
    "\n",
    "print(df.describe())\n",
    "print(df.isnull().sum())\n",
    "\n",
    "sns.histplot(df[\"Marks\"])\n",
    "plt.title(\"Marks Distribution\")\n",
    "plt.show()\n",
    "\n",
    "# EDA findings: Marks mostly above 75; some students near top marks.\n"
   ]
  },
  {
   "cell_type": "code",
   "execution_count": null,
   "id": "b6ba4b5d",
   "metadata": {},
   "outputs": [],
   "source": []
  }
 ],
 "metadata": {
  "kernelspec": {
   "display_name": "Python 3",
   "language": "python",
   "name": "python3"
  },
  "language_info": {
   "codemirror_mode": {
    "name": "ipython",
    "version": 3
   },
   "file_extension": ".py",
   "mimetype": "text/x-python",
   "name": "python",
   "nbconvert_exporter": "python",
   "pygments_lexer": "ipython3",
   "version": "3.11.0"
  }
 },
 "nbformat": 4,
 "nbformat_minor": 5
}
