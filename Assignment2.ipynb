{
 "cells": [
  {
   "cell_type": "code",
   "execution_count": 2,
   "id": "df46f248",
   "metadata": {},
   "outputs": [
    {
     "name": "stdout",
     "output_type": "stream",
     "text": [
      "[ 1  2  3  4  5  6  7  8  9 10]\n",
      "[[1 2 3]\n",
      " [4 5 6]\n",
      " [7 8 9]]\n",
      "[[[0.23534652 0.42845384 0.74865106]\n",
      "  [0.31859313 0.26537631 0.17818722]\n",
      "  [0.16801184 0.85827859 0.34761699]\n",
      "  [0.5126251  0.82411287 0.51054515]\n",
      "  [0.30106016 0.0472422  0.36821177]]\n",
      "\n",
      " [[0.36609358 0.06854419 0.88181318]\n",
      "  [0.26666717 0.820639   0.84440794]\n",
      "  [0.70515075 0.65081558 0.602093  ]\n",
      "  [0.7144625  0.61273499 0.78223533]\n",
      "  [0.30262421 0.75271814 0.73767669]]\n",
      "\n",
      " [[0.7990197  0.66834546 0.32037751]\n",
      "  [0.78367707 0.73347232 0.09711186]\n",
      "  [0.49683453 0.97168434 0.38719604]\n",
      "  [0.03924437 0.59513958 0.04283769]\n",
      "  [0.45038679 0.52938215 0.83698396]]]\n",
      "(10,) 10 int32\n",
      "(3, 3) 9 int32\n",
      "(3, 5, 3) 45 float64\n"
     ]
    }
   ],
   "source": [
    "#Creating Arrays\n",
    "import numpy as np\n",
    "\n",
    "# 1D array\n",
    "arr1 = np.arange(1, 11)\n",
    "print(arr1)\n",
    "\n",
    "# 2D array (3x3)\n",
    "arr2 = np.arange(1, 10).reshape(3, 3)\n",
    "print(arr2)\n",
    "\n",
    "# 3D random array (3,5,3)\n",
    "arr3 = np.random.rand(3, 5, 3)\n",
    "print(arr3)\n",
    "\n",
    "# Shapes, sizes, dtypes\n",
    "print(arr1.shape, arr1.size, arr1.dtype)\n",
    "print(arr2.shape, arr2.size, arr2.dtype)\n",
    "print(arr3.shape, arr3.size, arr3.dtype)\n"
   ]
  },
  {
   "cell_type": "code",
   "execution_count": 4,
   "id": "9f853723",
   "metadata": {},
   "outputs": [
    {
     "name": "stdout",
     "output_type": "stream",
     "text": [
      "[10 20 30]\n",
      "[10 30 50 70 90]\n",
      "[90 80 70 60 50 40 30 20 10]\n"
     ]
    }
   ],
   "source": [
    "#Array Indexing and Slicing\n",
    "data = np.array([10, 20, 30, 40, 50, 60, 70, 80, 90])\n",
    "\n",
    "print(data[:3])          # First three elements\n",
    "print(data[::2])         # Every alternate element\n",
    "print(data[::-1])        # Reverse\n"
   ]
  },
  {
   "cell_type": "code",
   "execution_count": 7,
   "id": "1e5d2c46",
   "metadata": {},
   "outputs": [
    {
     "name": "stdout",
     "output_type": "stream",
     "text": [
      "A: [15  8 11  1  4]\n",
      "B: [19 17  3 17 14]\n",
      "Add: [34 25 14 18 18]\n",
      "Subtract: [ -4  -9   8 -16 -10]\n",
      "Multiply: [285 136  33  17  56]\n",
      "Divide: [0.78947368 0.47058824 3.66666667 0.05882353 0.28571429]\n",
      "Dot Product: 527\n",
      "A Mean: 7.8\n",
      "A Median: 8.0\n",
      "A Std: 4.955804677345546\n",
      "A Var: 24.56\n",
      "B Max: 19 at index 0\n",
      "B Min: 3 at index 2\n"
     ]
    }
   ],
   "source": [
    "# Mathematical Ops\n",
    "A = np.random.randint(1, 21, 5)\n",
    "B = np.random.randint(1, 21, 5)\n",
    "\n",
    "print(\"A:\", A)\n",
    "print(\"B:\", B)\n",
    "\n",
    "print(\"Add:\", A + B)\n",
    "print(\"Subtract:\", A - B)\n",
    "print(\"Multiply:\", A * B)\n",
    "print(\"Divide:\", A / B)\n",
    "\n",
    "print(\"Dot Product:\", np.dot(A, B))\n",
    "\n",
    "print(\"A Mean:\", np.mean(A))\n",
    "print(\"A Median:\", np.median(A))\n",
    "print(\"A Std:\", np.std(A))\n",
    "print(\"A Var:\", np.var(A))\n",
    "\n",
    "print(\"B Max:\", np.max(B), \"at index\", np.argmax(B))\n",
    "print(\"B Min:\", np.min(B), \"at index\", np.argmin(B))\n"
   ]
  },
  {
   "cell_type": "code",
   "execution_count": 8,
   "id": "e3c124be",
   "metadata": {},
   "outputs": [
    {
     "name": "stdout",
     "output_type": "stream",
     "text": [
      "[[ 1  2  3]\n",
      " [ 4  5  6]\n",
      " [ 7  8  9]\n",
      " [10 11 12]]\n",
      "[[[ 1  2  3]\n",
      "  [ 4  5  6]]\n",
      "\n",
      " [[ 7  8  9]\n",
      "  [10 11 12]]]\n",
      "[[ 1  4  7 10]\n",
      " [ 2  5  8 11]\n",
      " [ 3  6  9 12]]\n",
      "Transposed shape: (3, 4)\n"
     ]
    }
   ],
   "source": [
    "# Reshaping And Trnasposing\n",
    "arr = np.arange(1, 13)\n",
    "\n",
    "arr2d = arr.reshape(4, 3)\n",
    "print(arr2d)\n",
    "\n",
    "arr3d = arr.reshape(2, 2, 3)\n",
    "print(arr3d)\n",
    "\n",
    "transposed = arr2d.T\n",
    "print(transposed)\n",
    "print(\"Transposed shape:\", transposed.shape)\n"
   ]
  },
  {
   "cell_type": "code",
   "execution_count": 9,
   "id": "31907928",
   "metadata": {},
   "outputs": [
    {
     "name": "stdout",
     "output_type": "stream",
     "text": [
      "Array: [43 46 39 26 26 49 19 15 28 12 44 11 12 13 35]\n",
      "Elements >25: [43 46 39 26 26 49 28 44 35]\n",
      "After replacing <30 with 0: [43 46 39  0  0 49  0  0  0  0 44  0  0  0 35]\n",
      "Count divisible by 5: 10\n"
     ]
    }
   ],
   "source": [
    "# Boolean masking and filtering \n",
    "arr = np.random.randint(10, 51, 15)\n",
    "print(\"Array:\", arr)\n",
    "\n",
    "print(\"Elements >25:\", arr[arr > 25])\n",
    "\n",
    "arr[arr < 30] = 0\n",
    "print(\"After replacing <30 with 0:\", arr)\n",
    "\n",
    "print(\"Count divisible by 5:\", np.sum(arr % 5 == 0))\n"
   ]
  },
  {
   "cell_type": "code",
   "execution_count": null,
   "id": "8771ec0d",
   "metadata": {},
   "outputs": [],
   "source": [
    "# Working with built in functions\n",
    "print(np.linspace(0, 1, 10))\n",
    "\n",
    "print(np.eye(4))\n",
    "\n",
    "arr = np.random.randint(1, 101, 20)\n",
    "arr.sort()\n",
    "print(\"Sorted:\", arr)\n",
    "print(\"5 largest:\", arr[-5:])\n"
   ]
  }
 ],
 "metadata": {
  "kernelspec": {
   "display_name": "Python 3",
   "language": "python",
   "name": "python3"
  },
  "language_info": {
   "codemirror_mode": {
    "name": "ipython",
    "version": 3
   },
   "file_extension": ".py",
   "mimetype": "text/x-python",
   "name": "python",
   "nbconvert_exporter": "python",
   "pygments_lexer": "ipython3",
   "version": "3.11.0"
  }
 },
 "nbformat": 4,
 "nbformat_minor": 5
}
